{
  "nbformat": 4,
  "nbformat_minor": 0,
  "metadata": {
    "colab": {
      "provenance": []
    },
    "kernelspec": {
      "name": "python3",
      "display_name": "Python 3"
    },
    "language_info": {
      "name": "python"
    }
  },
  "cells": [
    {
      "cell_type": "markdown",
      "source": [
        "#Задача линейного программирования\n",
        "\n",
        "##Вариант 8"
      ],
      "metadata": {
        "id": "0aQzMAblbRvt"
      }
    },
    {
      "cell_type": "markdown",
      "source": [
        "1. Решить задачу линейного программирования на минимум и на\n",
        "максимум при помощи библиотек pulp, scipy.Optimize, cvxopt\n",
        "(Пример см. Приожение 1)\n",
        "2. Построить решение в графическом виде, указав оптимальные\n",
        "точки\n",
        "3. Сверить ответ с приведенным ответом (как правило, приведен\n",
        "один вариант ответа), сверить ответы между собой — вывести\n",
        "таблицу в виде: метод — ответ — время"
      ],
      "metadata": {
        "id": "ndOWLdO0Xmob"
      }
    },
    {
      "cell_type": "markdown",
      "source": [
        "$$F=x_1 +3x_2 →min,max$$\n",
        "\n",
        "Система:\n",
        "$$x_1+4x_2≥4$$\n",
        "$$x_1+x_2≤6$$\n",
        "$$x_1≥2$$\n",
        "$$x_2≥0$$\n",
        "\n",
        "Ожидаемый ответ из методички:\n",
        "$$x_1 = 2; $$\n",
        "$$x_2 = 4;$$\n",
        "$$F_(max) = 14 $$\n"
      ],
      "metadata": {
        "id": "nORkizc8dpXl"
      }
    },
    {
      "cell_type": "markdown",
      "source": [
        "##Устанавливаем библиотеки pulp, scipy.Optimize, cvxopt"
      ],
      "metadata": {
        "id": "gOYANvCTavPE"
      }
    },
    {
      "cell_type": "code",
      "source": [
        "!pip install pulp cvxopt scipy"
      ],
      "metadata": {
        "colab": {
          "base_uri": "https://localhost:8080/"
        },
        "id": "ul21eAbGaKY-",
        "outputId": "0484c9ea-ac47-427e-ef7f-6964d0d5f43c"
      },
      "execution_count": 11,
      "outputs": [
        {
          "output_type": "stream",
          "name": "stdout",
          "text": [
            "Requirement already satisfied: pulp in /usr/local/lib/python3.12/dist-packages (3.3.0)\n",
            "Requirement already satisfied: cvxopt in /usr/local/lib/python3.12/dist-packages (1.3.2)\n",
            "Requirement already satisfied: scipy in /usr/local/lib/python3.12/dist-packages (1.16.2)\n",
            "Requirement already satisfied: numpy<2.6,>=1.25.2 in /usr/local/lib/python3.12/dist-packages (from scipy) (2.0.2)\n"
          ]
        }
      ]
    },
    {
      "cell_type": "markdown",
      "source": [
        "##Библиотека pulp"
      ],
      "metadata": {
        "id": "WlCKRRRnc16p"
      }
    },
    {
      "cell_type": "code",
      "source": [
        "from pulp import *\n",
        "import time\n",
        "\n",
        "#Минимум\n",
        "start = time.time()\n",
        "prob_min = LpProblem(\"problem_min\", LpMinimize)\n",
        "x1 = LpVariable(\"x1\", lowBound=2)\n",
        "x2 = LpVariable(\"x2\", lowBound=0)\n",
        "\n",
        "prob_min += x1 + 3*x2\n",
        "prob_min += x1 + 4*x2 >= 4\n",
        "prob_min += x1 + x2 <= 6\n",
        "\n",
        "prob_min.solve()\n",
        "min_value = value(prob_min.objective)\n",
        "min_x1 = value(x1)\n",
        "min_x2 = value(x2)\n",
        "time_min_pulp = time.time() - start\n",
        "\n",
        "#Максимум\n",
        "start = time.time()\n",
        "prob_max = LpProblem(\"problem_max\", LpMaximize)\n",
        "x1 = LpVariable(\"x1\", lowBound=2)\n",
        "x2 = LpVariable(\"x2\", lowBound=0)\n",
        "\n",
        "prob_max += x1 + 3*x2\n",
        "prob_max += x1 + 4*x2 >= 4\n",
        "prob_max += x1 + x2 <= 6\n",
        "\n",
        "prob_max.solve()\n",
        "max_value = value(prob_max.objective)\n",
        "max_x1 = value(x1)\n",
        "max_x2 = value(x2)\n",
        "time_max_pulp = time.time() - start\n",
        "\n",
        "print(\"PuLP Results:\")\n",
        "print(f\"Min: F({min_x1}, {min_x2}) = {min_value}, Time: {time_min_pulp:.6f}s\")\n",
        "print(f\"Max: F({max_x1}, {max_x2}) = {max_value}, Time: {time_max_pulp:.6f}s\")"
      ],
      "metadata": {
        "colab": {
          "base_uri": "https://localhost:8080/"
        },
        "id": "6TbrsNW8Xm1c",
        "outputId": "a9497bfd-6ac6-4e1f-dde3-783d5cf8c47a"
      },
      "execution_count": 4,
      "outputs": [
        {
          "output_type": "stream",
          "name": "stdout",
          "text": [
            "PuLP Results:\n",
            "Min: F(2.0, 0.5) = 3.5, Time: 0.039931s\n",
            "Max: F(2.0, 4.0) = 14.0, Time: 0.029250s\n"
          ]
        }
      ]
    },
    {
      "cell_type": "markdown",
      "source": [
        "## Библиотека scipy"
      ],
      "metadata": {
        "id": "s8FL7jcpc8vu"
      }
    },
    {
      "cell_type": "code",
      "source": [
        "from scipy.optimize import linprog\n",
        "import time\n",
        "import numpy as np\n",
        "\n",
        "#МИНИМУМ\n",
        "start = time.time()\n",
        "c_min = [1, 3]\n",
        "A_ub_min = [[-1, -4]]  # x1 + 4x2 >= 4 -> -x1 - 4x2 <= -4\n",
        "b_ub_min = [-4]\n",
        "#Добавляем ограничение x1 + x2 <= 6\n",
        "A_ub_min = [[-1, -4], [1, 1]]  # первое: x1 + 4x2 >= 4, второе: x1 + x2 <= 6\n",
        "b_ub_min = [-4, 6]\n",
        "bounds_min = [(2, None), (0, None)]\n",
        "\n",
        "result_min = linprog(c_min, A_ub=A_ub_min, b_ub=b_ub_min, bounds=bounds_min)\n",
        "time_min_scipy = time.time() - start\n",
        "\n",
        "#МАКСИМУМ\n",
        "start = time.time()\n",
        "c_max = [-1, -3]  #Для максимизации меняем знак\n",
        "A_ub_max = [[-1, -4], [1, 1]]\n",
        "b_ub_max = [-4, 6]\n",
        "bounds_max = [(2, None), (0, None)]\n",
        "\n",
        "result_max = linprog(c_max, A_ub=A_ub_max, b_ub=b_ub_max, bounds=bounds_max)\n",
        "time_max_scipy = time.time() - start\n",
        "\n",
        "print(\"SciPy Results:\")\n",
        "if result_min.success:\n",
        "    print(f\"Min: F({result_min.x[0]:.1f}, {result_min.x[1]:.1f}) = {result_min.fun:.1f}, Time: {time_min_scipy:.6f}s\")\n",
        "else:\n",
        "    print(f\"Min: No solution found - {result_min.message}\")\n",
        "\n",
        "if result_max.success:\n",
        "    print(f\"Max: F({result_max.x[0]:.1f}, {result_max.x[1]:.1f}) = {-result_max.fun:.1f}, Time: {time_max_scipy:.6f}s\")\n",
        "else:\n",
        "    print(f\"Max: No solution found - {result_max.message}\")"
      ],
      "metadata": {
        "colab": {
          "base_uri": "https://localhost:8080/"
        },
        "id": "deAow1FZaC5A",
        "outputId": "032f37b9-ce46-4f35-fa17-d3aef8013e18"
      },
      "execution_count": 10,
      "outputs": [
        {
          "output_type": "stream",
          "name": "stdout",
          "text": [
            "SciPy Results:\n",
            "Min: F(2.0, 0.5) = 3.5, Time: 0.006694s\n",
            "Max: F(2.0, 4.0) = 14.0, Time: 0.004083s\n"
          ]
        }
      ]
    },
    {
      "cell_type": "markdown",
      "source": [
        "## Библиотека cvxopt"
      ],
      "metadata": {
        "id": "qVoGStLhdEyT"
      }
    },
    {
      "cell_type": "code",
      "source": [
        "from cvxopt import matrix, solvers\n",
        "import time\n",
        "\n",
        "#Минимум\n",
        "start = time.time()\n",
        "c_min = matrix([1., 3.])\n",
        "G_min = matrix([[-1., 1., -1., 0.],  # -x1 - 4x2 <= -4, x1 + x2 <= 6, -x1 <= -2, -x2 <= 0\n",
        "               [-4., 1., 0., -1.]])\n",
        "h_min = matrix([-4., 6., -2., 0.])\n",
        "\n",
        "sol_min = solvers.lp(c_min, G_min, h_min)\n",
        "time_min_cvxopt = time.time() - start\n",
        "\n",
        "#Максимум\n",
        "start = time.time()\n",
        "c_max = matrix([-1., -3.])  #Для максимизации\n",
        "G_max = matrix([[-1., 1., -1., 0.],\n",
        "               [-4., 1., 0., -1.]])\n",
        "h_max = matrix([-4., 6., -2., 0.])\n",
        "\n",
        "sol_max = solvers.lp(c_max, G_max, h_max)\n",
        "time_max_cvxopt = time.time() - start\n",
        "\n",
        "print(\"\\nCVXOPT Results:\")\n",
        "print(f\"Min: F({sol_min['x'][0]:.1f}, {sol_min['x'][1]:.1f}) = {sol_min['primal objective']:.1f}, Time: {time_min_cvxopt:.6f}s\")\n",
        "print(f\"Max: F({sol_max['x'][0]:.1f}, {sol_max['x'][1]:.1f}) = {-sol_max['primal objective']:.1f}, Time: {time_max_cvxopt:.6f}s\")"
      ],
      "metadata": {
        "colab": {
          "base_uri": "https://localhost:8080/"
        },
        "id": "6_jYj4aPaSOu",
        "outputId": "66924dc6-e2cd-4ae0-c8a4-cf13a54421dd"
      },
      "execution_count": 12,
      "outputs": [
        {
          "output_type": "stream",
          "name": "stdout",
          "text": [
            "     pcost       dcost       gap    pres   dres   k/t\n",
            " 0:  4.2759e+00  4.2759e+00  6e+00  0e+00  2e+00  1e+00\n",
            " 1:  3.9574e+00  3.9369e+00  6e-01  2e-16  2e-01  8e-02\n",
            " 2:  3.5345e+00  3.5362e+00  1e-01  2e-16  4e-02  3e-02\n",
            " 3:  3.5004e+00  3.5004e+00  1e-03  1e-16  4e-04  3e-04\n",
            " 4:  3.5000e+00  3.5000e+00  1e-05  1e-16  4e-06  3e-06\n",
            " 5:  3.5000e+00  3.5000e+00  1e-07  3e-16  4e-08  3e-08\n",
            "Optimal solution found.\n",
            "     pcost       dcost       gap    pres   dres   k/t\n",
            " 0: -4.2759e+00 -4.2759e+00  7e+00  0e+00  2e+00  1e+00\n",
            " 1: -4.8092e+00 -4.7021e+00  3e+00  3e-17  8e-01  5e-01\n",
            " 2: -9.6457e+00 -8.9898e+00  9e+00  2e-16  1e+00  1e+00\n",
            " 3: -1.3924e+01 -1.3702e+01  3e-01  3e-16  4e-02  2e-01\n",
            " 4: -1.3999e+01 -1.3997e+01  3e-03  3e-16  4e-04  2e-03\n",
            " 5: -1.4000e+01 -1.4000e+01  3e-05  1e-16  4e-06  2e-05\n",
            " 6: -1.4000e+01 -1.4000e+01  3e-07  6e-16  4e-08  2e-07\n",
            "Optimal solution found.\n",
            "\n",
            "CVXOPT Results:\n",
            "Min: F(2.0, 0.5) = 3.5, Time: 0.104577s\n",
            "Max: F(2.0, 4.0) = 14.0, Time: 0.007268s\n"
          ]
        }
      ]
    },
    {
      "cell_type": "markdown",
      "source": [
        "##Графическое решение"
      ],
      "metadata": {
        "id": "Uc4SPgL8bD8f"
      }
    },
    {
      "cell_type": "code",
      "source": [
        "import matplotlib.pyplot as plt\n",
        "import numpy as np\n",
        "\n",
        "#Настройка графика\n",
        "plt.figure(figsize=(10, 8))\n",
        "x = np.linspace(0, 7, 400)\n",
        "\n",
        "#Построение ограничений\n",
        "y1 = (4 - x) / 4  # x1 + 4x2 = 4\n",
        "y2 = 6 - x        # x1 + x2 = 6\n",
        "\n",
        "#Область допустимых решений\n",
        "plt.fill([2, 2, 4], [0.5, 4, 0], 'lightblue', alpha=0.5, label='Область допустимых решений')\n",
        "\n",
        "#Линии ограничений\n",
        "plt.plot(x, y1, 'r-', label='x1 + 4x2 = 4')\n",
        "plt.plot(x, y2, 'g-', label='x1 + x2 = 6')\n",
        "plt.axvline(x=2, color='purple', label='x1 = 2')\n",
        "\n",
        "#Оптимальные точки\n",
        "plt.plot(2, 4, 'ro', markersize=8, label='Максимум (2, 4)')\n",
        "plt.plot(2, 0.5, 'bo', markersize=8, label='Минимум (2, 0.5)')\n",
        "\n",
        "#Настройки графика\n",
        "plt.xlim(0, 7)\n",
        "plt.ylim(0, 7)\n",
        "plt.xlabel('x1')\n",
        "plt.ylabel('x2')\n",
        "plt.title('Графическое решение Задачи 8')\n",
        "plt.legend()\n",
        "plt.grid(True)\n",
        "plt.show()"
      ],
      "metadata": {
        "colab": {
          "base_uri": "https://localhost:8080/",
          "height": 718
        },
        "id": "3UM6FRMUaadG",
        "outputId": "478909bc-6047-4f8f-c241-36562b6a1af7"
      },
      "execution_count": 13,
      "outputs": [
        {
          "output_type": "display_data",
          "data": {
            "text/plain": [
              "<Figure size 1000x800 with 1 Axes>"
            ],
            "image/png": "[encoded data removed]"
          },
          "metadata": {}
        }
      ]
    },
    {
      "cell_type": "markdown",
      "source": [
        "##Вывод:\n",
        "Все три библиотеки дали одинаковые результаты:\n",
        "\n",
        "$Максимум: F(2, 4) = 14$\n",
        "\n",
        "$Минимум: F(2, 0.5) = 3.5$\n",
        "\n",
        "Сравнение времени выполнения:\n",
        "\n",
        "SciPy оказался самым быстрым\n",
        "\n",
        "CVXOPT немного медленнее SciPy\n",
        "\n",
        "PuLP показал наибольшее время выполнения\n",
        "\n",
        "Результат совпадает с ответом в методичке для максимума: $F(2, 4) = 14$\n",
        "\n",
        "Графическое решение подтверждает аналитические вычисления - оптимальные точки находятся в вершинах области допустимых решений."
      ],
      "metadata": {
        "id": "Bt1bej4tatGQ"
      }
    }
  ]
}